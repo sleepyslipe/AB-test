{
 "cells": [
  {
   "cell_type": "markdown",
   "metadata": {},
   "source": [
    "# 1. Задание\n",
    "\n",
    "Предположим, в ряде городов в определенный период проведен тест:  \n",
    "- В тестовых городах на веб-сайте пиццы располагаются по популярности  \n",
    "- Во всех остальных по увеличению цены на пиццу  \n",
    "\n",
    "Тестовый период: 7 апреля - 19 мая  \n",
    "Тестовые города: Пенза, Уфа, Курск, Нижний Тагил, Новокуйбышевск, Орск  \n",
    "Описание датасета:  \n",
    "- Date : дата  \n",
    "- CityName : город  \n",
    "- OrderSource : источник заказа - mp: мобильное приложение, web: веб-сайт, other - другое  \n",
    "- Category: категория товара  \n",
    "- rto: выручка после скидок  \n",
    "- rto_do: выручка до скидок\n",
    "- cost: затраты на себестоимость товаров\n",
    "- tickets: кол-во заказов\n",
    "- qty - кол-во продуктов\n",
    "- clients_qty - уникальное кол-во клиентов\n",
    "- avg_time - среднее время сессии (только по тем, кто оформил заказ)\n",
    "- avg_price - средняя цена  \n",
    "! В исходном датасете данные уже сгруппированы по Date, CityName, OrderSource, Category"
   ]
  },
  {
   "cell_type": "markdown",
   "metadata": {},
   "source": [
    "# 2. Предобработка данных"
   ]
  },
  {
   "cell_type": "code",
   "execution_count": 53,
   "metadata": {},
   "outputs": [],
   "source": [
    "import pandas as pd"
   ]
  },
  {
   "cell_type": "code",
   "execution_count": 54,
   "metadata": {},
   "outputs": [],
   "source": [
    "data = pd.read_csv('sources/DA_DODO.csv')"
   ]
  },
  {
   "cell_type": "code",
   "execution_count": 55,
   "metadata": {},
   "outputs": [
    {
     "data": {
      "text/html": [
       "<div>\n",
       "<style scoped>\n",
       "    .dataframe tbody tr th:only-of-type {\n",
       "        vertical-align: middle;\n",
       "    }\n",
       "\n",
       "    .dataframe tbody tr th {\n",
       "        vertical-align: top;\n",
       "    }\n",
       "\n",
       "    .dataframe thead th {\n",
       "        text-align: right;\n",
       "    }\n",
       "</style>\n",
       "<table border=\"1\" class=\"dataframe\">\n",
       "  <thead>\n",
       "    <tr style=\"text-align: right;\">\n",
       "      <th></th>\n",
       "      <th>Date</th>\n",
       "      <th>CityName</th>\n",
       "      <th>OrderSource</th>\n",
       "      <th>Category</th>\n",
       "      <th>rto</th>\n",
       "      <th>rto_do</th>\n",
       "      <th>cost</th>\n",
       "      <th>qty</th>\n",
       "      <th>tickets</th>\n",
       "      <th>clients_qty</th>\n",
       "      <th>avg_time</th>\n",
       "      <th>avg_price</th>\n",
       "    </tr>\n",
       "  </thead>\n",
       "  <tbody>\n",
       "    <tr>\n",
       "      <th>0</th>\n",
       "      <td>2022-01-01T00:00:00.000Z</td>\n",
       "      <td>Абакан</td>\n",
       "      <td>mp</td>\n",
       "      <td>пицца</td>\n",
       "      <td>76674.8416</td>\n",
       "      <td>83162.76</td>\n",
       "      <td>19535.963036</td>\n",
       "      <td>165.0</td>\n",
       "      <td>108.0</td>\n",
       "      <td>102.0</td>\n",
       "      <td>31.504625</td>\n",
       "      <td>464.696010</td>\n",
       "    </tr>\n",
       "    <tr>\n",
       "      <th>1</th>\n",
       "      <td>2022-01-01T00:00:00.000Z</td>\n",
       "      <td>Абакан</td>\n",
       "      <td>mp</td>\n",
       "      <td>закуски</td>\n",
       "      <td>12099.1584</td>\n",
       "      <td>12950.67</td>\n",
       "      <td>4141.103464</td>\n",
       "      <td>69.0</td>\n",
       "      <td>40.0</td>\n",
       "      <td>37.0</td>\n",
       "      <td>40.269234</td>\n",
       "      <td>175.350122</td>\n",
       "    </tr>\n",
       "    <tr>\n",
       "      <th>2</th>\n",
       "      <td>2022-01-01T00:00:00.000Z</td>\n",
       "      <td>Абакан</td>\n",
       "      <td>mp</td>\n",
       "      <td>напитки</td>\n",
       "      <td>1718.3600</td>\n",
       "      <td>2533.80</td>\n",
       "      <td>854.599275</td>\n",
       "      <td>22.0</td>\n",
       "      <td>19.0</td>\n",
       "      <td>18.0</td>\n",
       "      <td>28.066464</td>\n",
       "      <td>78.107273</td>\n",
       "    </tr>\n",
       "    <tr>\n",
       "      <th>3</th>\n",
       "      <td>2022-01-01T00:00:00.000Z</td>\n",
       "      <td>Абакан</td>\n",
       "      <td>mp</td>\n",
       "      <td>десерты</td>\n",
       "      <td>4614.8200</td>\n",
       "      <td>5498.10</td>\n",
       "      <td>1668.686400</td>\n",
       "      <td>27.0</td>\n",
       "      <td>22.0</td>\n",
       "      <td>22.0</td>\n",
       "      <td>25.731966</td>\n",
       "      <td>170.919259</td>\n",
       "    </tr>\n",
       "    <tr>\n",
       "      <th>4</th>\n",
       "      <td>2022-01-01T00:00:00.000Z</td>\n",
       "      <td>Абакан</td>\n",
       "      <td>other</td>\n",
       "      <td>пицца</td>\n",
       "      <td>24587.7800</td>\n",
       "      <td>25875.51</td>\n",
       "      <td>5532.266261</td>\n",
       "      <td>47.0</td>\n",
       "      <td>24.0</td>\n",
       "      <td>23.0</td>\n",
       "      <td>18.486525</td>\n",
       "      <td>523.144255</td>\n",
       "    </tr>\n",
       "    <tr>\n",
       "      <th>5</th>\n",
       "      <td>2022-01-01T00:00:00.000Z</td>\n",
       "      <td>Абакан</td>\n",
       "      <td>other</td>\n",
       "      <td>закуски</td>\n",
       "      <td>2890.5100</td>\n",
       "      <td>2987.67</td>\n",
       "      <td>862.327004</td>\n",
       "      <td>15.0</td>\n",
       "      <td>5.0</td>\n",
       "      <td>5.0</td>\n",
       "      <td>40.636090</td>\n",
       "      <td>192.700667</td>\n",
       "    </tr>\n",
       "    <tr>\n",
       "      <th>6</th>\n",
       "      <td>2022-01-01T00:00:00.000Z</td>\n",
       "      <td>Абакан</td>\n",
       "      <td>other</td>\n",
       "      <td>напитки</td>\n",
       "      <td>141.6100</td>\n",
       "      <td>146.37</td>\n",
       "      <td>82.220400</td>\n",
       "      <td>1.0</td>\n",
       "      <td>1.0</td>\n",
       "      <td>1.0</td>\n",
       "      <td>36.858792</td>\n",
       "      <td>141.610000</td>\n",
       "    </tr>\n",
       "    <tr>\n",
       "      <th>7</th>\n",
       "      <td>2022-01-01T00:00:00.000Z</td>\n",
       "      <td>Абакан</td>\n",
       "      <td>web</td>\n",
       "      <td>пицца</td>\n",
       "      <td>39132.1742</td>\n",
       "      <td>41191.47</td>\n",
       "      <td>9358.496118</td>\n",
       "      <td>69.0</td>\n",
       "      <td>45.0</td>\n",
       "      <td>43.0</td>\n",
       "      <td>32.470000</td>\n",
       "      <td>567.132959</td>\n",
       "    </tr>\n",
       "    <tr>\n",
       "      <th>8</th>\n",
       "      <td>2022-01-01T00:00:00.000Z</td>\n",
       "      <td>Абакан</td>\n",
       "      <td>web</td>\n",
       "      <td>закуски</td>\n",
       "      <td>5028.9400</td>\n",
       "      <td>5197.98</td>\n",
       "      <td>1744.257134</td>\n",
       "      <td>19.0</td>\n",
       "      <td>10.0</td>\n",
       "      <td>10.0</td>\n",
       "      <td>36.292530</td>\n",
       "      <td>264.681053</td>\n",
       "    </tr>\n",
       "    <tr>\n",
       "      <th>9</th>\n",
       "      <td>2022-01-01T00:00:00.000Z</td>\n",
       "      <td>Абакан</td>\n",
       "      <td>web</td>\n",
       "      <td>напитки</td>\n",
       "      <td>704.4800</td>\n",
       "      <td>728.16</td>\n",
       "      <td>238.041765</td>\n",
       "      <td>5.0</td>\n",
       "      <td>5.0</td>\n",
       "      <td>5.0</td>\n",
       "      <td>48.440940</td>\n",
       "      <td>140.896000</td>\n",
       "    </tr>\n",
       "  </tbody>\n",
       "</table>\n",
       "</div>"
      ],
      "text/plain": [
       "                       Date CityName OrderSource Category         rto  \\\n",
       "0  2022-01-01T00:00:00.000Z   Абакан          mp    пицца  76674.8416   \n",
       "1  2022-01-01T00:00:00.000Z   Абакан          mp  закуски  12099.1584   \n",
       "2  2022-01-01T00:00:00.000Z   Абакан          mp  напитки   1718.3600   \n",
       "3  2022-01-01T00:00:00.000Z   Абакан          mp  десерты   4614.8200   \n",
       "4  2022-01-01T00:00:00.000Z   Абакан       other    пицца  24587.7800   \n",
       "5  2022-01-01T00:00:00.000Z   Абакан       other  закуски   2890.5100   \n",
       "6  2022-01-01T00:00:00.000Z   Абакан       other  напитки    141.6100   \n",
       "7  2022-01-01T00:00:00.000Z   Абакан         web    пицца  39132.1742   \n",
       "8  2022-01-01T00:00:00.000Z   Абакан         web  закуски   5028.9400   \n",
       "9  2022-01-01T00:00:00.000Z   Абакан         web  напитки    704.4800   \n",
       "\n",
       "     rto_do          cost    qty  tickets  clients_qty   avg_time   avg_price  \n",
       "0  83162.76  19535.963036  165.0    108.0        102.0  31.504625  464.696010  \n",
       "1  12950.67   4141.103464   69.0     40.0         37.0  40.269234  175.350122  \n",
       "2   2533.80    854.599275   22.0     19.0         18.0  28.066464   78.107273  \n",
       "3   5498.10   1668.686400   27.0     22.0         22.0  25.731966  170.919259  \n",
       "4  25875.51   5532.266261   47.0     24.0         23.0  18.486525  523.144255  \n",
       "5   2987.67    862.327004   15.0      5.0          5.0  40.636090  192.700667  \n",
       "6    146.37     82.220400    1.0      1.0          1.0  36.858792  141.610000  \n",
       "7  41191.47   9358.496118   69.0     45.0         43.0  32.470000  567.132959  \n",
       "8   5197.98   1744.257134   19.0     10.0         10.0  36.292530  264.681053  \n",
       "9    728.16    238.041765    5.0      5.0          5.0  48.440940  140.896000  "
      ]
     },
     "execution_count": 55,
     "metadata": {},
     "output_type": "execute_result"
    }
   ],
   "source": [
    "data.head(10)"
   ]
  },
  {
   "cell_type": "code",
   "execution_count": 56,
   "metadata": {},
   "outputs": [
    {
     "name": "stdout",
     "output_type": "stream",
     "text": [
      "<class 'pandas.core.frame.DataFrame'>\n",
      "RangeIndex: 550710 entries, 0 to 550709\n",
      "Data columns (total 12 columns):\n",
      " #   Column       Non-Null Count   Dtype  \n",
      "---  ------       --------------   -----  \n",
      " 0   Date         550710 non-null  object \n",
      " 1   CityName     550710 non-null  object \n",
      " 2   OrderSource  550710 non-null  object \n",
      " 3   Category     550710 non-null  object \n",
      " 4   rto          550710 non-null  float64\n",
      " 5   rto_do       550710 non-null  float64\n",
      " 6   cost         550710 non-null  float64\n",
      " 7   qty          550710 non-null  float64\n",
      " 8   tickets      550710 non-null  float64\n",
      " 9   clients_qty  550710 non-null  float64\n",
      " 10  avg_time     550710 non-null  float64\n",
      " 11  avg_price    550710 non-null  float64\n",
      "dtypes: float64(8), object(4)\n",
      "memory usage: 50.4+ MB\n"
     ]
    }
   ],
   "source": [
    "data.info()"
   ]
  },
  {
   "cell_type": "code",
   "execution_count": 57,
   "metadata": {},
   "outputs": [],
   "source": [
    "data.columns = data.columns.str.lower()"
   ]
  },
  {
   "cell_type": "code",
   "execution_count": 58,
   "metadata": {},
   "outputs": [],
   "source": [
    "data['date'] = pd.to_datetime(data['date'])"
   ]
  },
  {
   "cell_type": "code",
   "execution_count": 59,
   "metadata": {},
   "outputs": [
    {
     "name": "stdout",
     "output_type": "stream",
     "text": [
      "<class 'pandas.core.frame.DataFrame'>\n",
      "RangeIndex: 550710 entries, 0 to 550709\n",
      "Data columns (total 12 columns):\n",
      " #   Column       Non-Null Count   Dtype              \n",
      "---  ------       --------------   -----              \n",
      " 0   date         550710 non-null  datetime64[ns, UTC]\n",
      " 1   cityname     550710 non-null  object             \n",
      " 2   ordersource  550710 non-null  object             \n",
      " 3   category     550710 non-null  object             \n",
      " 4   rto          550710 non-null  float64            \n",
      " 5   rto_do       550710 non-null  float64            \n",
      " 6   cost         550710 non-null  float64            \n",
      " 7   qty          550710 non-null  float64            \n",
      " 8   tickets      550710 non-null  float64            \n",
      " 9   clients_qty  550710 non-null  float64            \n",
      " 10  avg_time     550710 non-null  float64            \n",
      " 11  avg_price    550710 non-null  float64            \n",
      "dtypes: datetime64[ns, UTC](1), float64(8), object(3)\n",
      "memory usage: 50.4+ MB\n"
     ]
    }
   ],
   "source": [
    "data.info()"
   ]
  },
  {
   "cell_type": "code",
   "execution_count": 60,
   "metadata": {},
   "outputs": [
    {
     "data": {
      "text/plain": [
       "False"
      ]
     },
     "execution_count": 60,
     "metadata": {},
     "output_type": "execute_result"
    }
   ],
   "source": [
    "data.duplicated().any()"
   ]
  },
  {
   "cell_type": "code",
   "execution_count": 61,
   "metadata": {},
   "outputs": [
    {
     "data": {
      "text/plain": [
       "array(['Абакан', 'Абинск', 'Азов', 'Аксай Россия', 'Александров',\n",
       "       'Альметьевск', 'Анапа', 'Апатиты', 'Апрелевка', 'Арзамас',\n",
       "       'Архангельск', 'Астрахань', 'Балаково', 'Балашиха', 'Балтийск',\n",
       "       'Барнаул', 'Батайск', 'Белгород', 'Белогорск', 'Бердск',\n",
       "       'Березники', 'Благовещенск', 'Братск', 'Брянск', 'Бугульма',\n",
       "       'Бузулук', 'Великий Новгород', 'Верхняя Пышма', 'Видное',\n",
       "       'Владивосток', 'Владикавказ', 'Владимир', 'Внуково', 'Волгоград',\n",
       "       'Волжский', 'Вологда', 'Волхов', 'Воркута', 'Воронеж',\n",
       "       'Воскресенск', 'Воткинск', 'Всеволожск', 'Выборг',\n",
       "       'Вышний Волочек', 'Вязьма', 'Гатчина', 'Геленджик', 'Глазов',\n",
       "       'Голицыно', 'Горно-Алтайск', 'Горячий Ключ', 'Грозный', 'Губкин',\n",
       "       'Губкинский', 'Дедовск', 'Дзержинск', 'Димитровград', 'Дмитров',\n",
       "       'Долгопрудный', 'Домодедово', 'Дубна', 'Егорьевск', 'Екатеринбург',\n",
       "       'Елабуга', 'Ессентуки', 'Железнодорожный', 'Жуковский', 'Заречный',\n",
       "       'Звенигород', 'Зеленоград', 'Златоуст', 'Иваново', 'Ивантеевка',\n",
       "       'Ижевск', 'Иркутск', 'Истра', 'Йошкар-Ола', 'Казань',\n",
       "       'Калининград', 'Калуга', 'Каменск-Уральский', 'Каменск-Шахтинский',\n",
       "       'Камышин', 'Канск', 'Кемерово', 'Кингисепп', 'Кириши', 'Киров',\n",
       "       'Клин', 'Ковров', 'Когалым', 'Коломна', 'Колпино', 'Коммунарка',\n",
       "       'Комсомольск-на-Амуре', 'Конаково', 'Копейск', 'Королев', 'Котлас',\n",
       "       'Красногорск', 'Краснодар', 'Красное Село', 'Краснокамск',\n",
       "       'Красноярск', 'Кронштадт', 'Кропоткин', 'Крымск', 'Кстово',\n",
       "       'Кубинка', 'Кудрово', 'Куйбышев', 'Курган', 'Курск', 'Лабытнанги',\n",
       "       'Лангепас', 'Лениногорск', 'Ленинск-Кузнецкий', 'Ликино-Дулево',\n",
       "       'Липецк', 'Лобня', 'Луга', 'Лыткарино', 'Люберцы', 'Лянтор',\n",
       "       'Магадан', 'Магнитогорск', 'Майкоп', 'Махачкала', 'Металлострой',\n",
       "       'Миасс', 'Минеральные Воды', 'Можайск', 'Москва', 'Московский',\n",
       "       'Муравленко', 'Мурино', 'Мурманск', 'Муром', 'Мытищи',\n",
       "       'Набережные Челны', 'Надым', 'Наро-Фоминск', 'Нахабино', 'Находка',\n",
       "       'Невинномысск', 'Нефтекамск', 'Нефтеюганск', 'Нижневартовск',\n",
       "       'Нижнекамск', 'Нижний Новгород', 'Нижний Тагил', 'Никольское',\n",
       "       'Новокузнецк', 'Новокуйбышевск', 'Новороссийск', 'Новосибирск',\n",
       "       'Новоуральск', 'Новочебоксарск', 'Новый Уренгой', 'Ногинск',\n",
       "       'Норильск', 'Ноябрьск', 'Нягань', 'Обнинск', 'Одинцово',\n",
       "       'Октябрьский', 'Омск', 'Орел', 'Оренбург', 'Орехово-Зуево', 'Орск',\n",
       "       'Павловский Посад', 'Парголово', 'Пенза', 'Переславль-Залесский',\n",
       "       'Пермь', 'Петергоф', 'Петрозаводск', 'Петропавловск-Камчатский',\n",
       "       'Подольск', 'Полевской', 'Прокопьевск', 'Псков', 'Пушкино',\n",
       "       'Пятигорск', 'Раменское', 'Рассказовка', 'Реутов', 'Ржев',\n",
       "       'Ростов-на-Дону', 'Рыбинск', 'Рязань', 'Салават', 'Салехард',\n",
       "       'Самара', 'Санкт-Петербург', 'Саранск', 'Сарапул', 'Саратов',\n",
       "       'Саров', 'Северодвинск', 'Северск', 'Сергиев Посад', 'Серпухов',\n",
       "       'Сертолово', 'Славянка', 'Смоленск', 'Солнечногорск',\n",
       "       'Сосновый Бор', 'Сочи', 'Ставрополь', 'Старая Купавна',\n",
       "       'Старый Оскол', 'Стерлитамак', 'Стрежевой', 'Ступино', 'Сургут',\n",
       "       'Сызрань', 'Сыктывкар', 'Таганрог', 'Тамбов', 'Тверь', 'Тобольск',\n",
       "       'Тольятти', 'Томск', 'Торжок', 'Тосно', 'Троицк', 'Туапсе',\n",
       "       'Туймазы', 'Тула', 'Тюмень', 'Улан-Удэ', 'Ульяновск', 'Урай',\n",
       "       'Усинск', 'Усолье-Сибирское', 'Уссурийск', 'Уфа', 'Ухта',\n",
       "       'Фрязино', 'Хабаровск', 'Ханты-Мансийск', 'Химки', 'Хотьково',\n",
       "       'Чайковский', 'Чебоксары', 'Челябинск', 'Череповец', 'Чехов',\n",
       "       'Чита', 'Шатура', 'Шушары', 'Щелково', 'Щербинка', 'Электросталь',\n",
       "       'Электроугли', 'Энгельс', 'Югорск', 'Южно-Сахалинск', 'Якутск',\n",
       "       'Корсаков', 'Шлиссельбург', 'Пушкин'], dtype=object)"
      ]
     },
     "execution_count": 61,
     "metadata": {},
     "output_type": "execute_result"
    }
   ],
   "source": [
    "data['cityname'].unique()   "
   ]
  },
  {
   "cell_type": "code",
   "execution_count": 62,
   "metadata": {},
   "outputs": [
    {
     "data": {
      "text/plain": [
       "(Timestamp('2022-01-01 00:00:00+0000', tz='UTC'),\n",
       " Timestamp('2022-06-30 00:00:00+0000', tz='UTC'))"
      ]
     },
     "execution_count": 62,
     "metadata": {},
     "output_type": "execute_result"
    }
   ],
   "source": [
    "data['date'].min(), data['date'].max()"
   ]
  },
  {
   "cell_type": "code",
   "execution_count": 63,
   "metadata": {},
   "outputs": [],
   "source": [
    "data = data[(data['ordersource'] == 'web') & (data['category'] == 'пицца')]"
   ]
  },
  {
   "cell_type": "code",
   "execution_count": 76,
   "metadata": {},
   "outputs": [
    {
     "data": {
      "text/plain": [
       "Timedelta('42 days 00:00:00')"
      ]
     },
     "execution_count": 76,
     "metadata": {},
     "output_type": "execute_result"
    }
   ],
   "source": [
    "# Задаем даты\n",
    "start_date = pd.to_datetime('2022-04-07', utc=True)\n",
    "end_date = pd.to_datetime('2022-05-19', utc=True)\n",
    "\n",
    "# Рассчитываем количество недель (только целые недели)\n",
    "days = (end_date - start_date)\n",
    "\n",
    "days"
   ]
  },
  {
   "cell_type": "markdown",
   "metadata": {},
   "source": [
    "Эксперимент длился 6 недель. Для A/A-теста подготовим также предпериод на 6 недель."
   ]
  },
  {
   "cell_type": "code",
   "execution_count": 77,
   "metadata": {},
   "outputs": [
    {
     "data": {
      "text/plain": [
       "Timestamp('2022-02-24 00:00:00+0000', tz='UTC')"
      ]
     },
     "execution_count": 77,
     "metadata": {},
     "output_type": "execute_result"
    }
   ],
   "source": [
    "# Вычитаем 6 недель\n",
    "AA_start_date = start_date - pd.Timedelta(weeks=6)\n",
    "\n",
    "AA_start_date"
   ]
  },
  {
   "cell_type": "markdown",
   "metadata": {},
   "source": [
    "# 3. Выбор метрик и формулирование гипотез"
   ]
  },
  {
   "cell_type": "code",
   "execution_count": 78,
   "metadata": {},
   "outputs": [
    {
     "data": {
      "text/html": [
       "<div>\n",
       "<style scoped>\n",
       "    .dataframe tbody tr th:only-of-type {\n",
       "        vertical-align: middle;\n",
       "    }\n",
       "\n",
       "    .dataframe tbody tr th {\n",
       "        vertical-align: top;\n",
       "    }\n",
       "\n",
       "    .dataframe thead th {\n",
       "        text-align: right;\n",
       "    }\n",
       "</style>\n",
       "<table border=\"1\" class=\"dataframe\">\n",
       "  <thead>\n",
       "    <tr style=\"text-align: right;\">\n",
       "      <th></th>\n",
       "      <th>date</th>\n",
       "      <th>cityname</th>\n",
       "      <th>ordersource</th>\n",
       "      <th>category</th>\n",
       "      <th>rto</th>\n",
       "      <th>rto_do</th>\n",
       "      <th>cost</th>\n",
       "      <th>qty</th>\n",
       "      <th>tickets</th>\n",
       "      <th>clients_qty</th>\n",
       "      <th>avg_time</th>\n",
       "      <th>avg_price</th>\n",
       "      <th>arpu</th>\n",
       "    </tr>\n",
       "  </thead>\n",
       "  <tbody>\n",
       "    <tr>\n",
       "      <th>82045</th>\n",
       "      <td>2022-01-28 00:00:00+00:00</td>\n",
       "      <td>Вышний Волочек</td>\n",
       "      <td>web</td>\n",
       "      <td>пицца</td>\n",
       "      <td>0.0</td>\n",
       "      <td>461.25</td>\n",
       "      <td>96.093210</td>\n",
       "      <td>1.0</td>\n",
       "      <td>1.0</td>\n",
       "      <td>1.0</td>\n",
       "      <td>29.871116</td>\n",
       "      <td>0.0</td>\n",
       "      <td>0.0</td>\n",
       "    </tr>\n",
       "    <tr>\n",
       "      <th>179956</th>\n",
       "      <td>2022-03-01 00:00:00+00:00</td>\n",
       "      <td>Копейск</td>\n",
       "      <td>web</td>\n",
       "      <td>пицца</td>\n",
       "      <td>0.0</td>\n",
       "      <td>1033.20</td>\n",
       "      <td>256.512890</td>\n",
       "      <td>1.0</td>\n",
       "      <td>1.0</td>\n",
       "      <td>1.0</td>\n",
       "      <td>29.036931</td>\n",
       "      <td>0.0</td>\n",
       "      <td>0.0</td>\n",
       "    </tr>\n",
       "    <tr>\n",
       "      <th>326914</th>\n",
       "      <td>2022-04-18 00:00:00+00:00</td>\n",
       "      <td>Прокопьевск</td>\n",
       "      <td>web</td>\n",
       "      <td>пицца</td>\n",
       "      <td>0.0</td>\n",
       "      <td>982.77</td>\n",
       "      <td>263.560761</td>\n",
       "      <td>1.0</td>\n",
       "      <td>1.0</td>\n",
       "      <td>1.0</td>\n",
       "      <td>25.373970</td>\n",
       "      <td>0.0</td>\n",
       "      <td>0.0</td>\n",
       "    </tr>\n",
       "    <tr>\n",
       "      <th>399377</th>\n",
       "      <td>2022-05-12 00:00:00+00:00</td>\n",
       "      <td>Лабытнанги</td>\n",
       "      <td>web</td>\n",
       "      <td>пицца</td>\n",
       "      <td>0.0</td>\n",
       "      <td>416.97</td>\n",
       "      <td>91.501432</td>\n",
       "      <td>1.0</td>\n",
       "      <td>1.0</td>\n",
       "      <td>1.0</td>\n",
       "      <td>28.046854</td>\n",
       "      <td>0.0</td>\n",
       "      <td>0.0</td>\n",
       "    </tr>\n",
       "  </tbody>\n",
       "</table>\n",
       "</div>"
      ],
      "text/plain": [
       "                            date        cityname ordersource category  rto  \\\n",
       "82045  2022-01-28 00:00:00+00:00  Вышний Волочек         web    пицца  0.0   \n",
       "179956 2022-03-01 00:00:00+00:00         Копейск         web    пицца  0.0   \n",
       "326914 2022-04-18 00:00:00+00:00     Прокопьевск         web    пицца  0.0   \n",
       "399377 2022-05-12 00:00:00+00:00      Лабытнанги         web    пицца  0.0   \n",
       "\n",
       "         rto_do        cost  qty  tickets  clients_qty   avg_time  avg_price  \\\n",
       "82045    461.25   96.093210  1.0      1.0          1.0  29.871116        0.0   \n",
       "179956  1033.20  256.512890  1.0      1.0          1.0  29.036931        0.0   \n",
       "326914   982.77  263.560761  1.0      1.0          1.0  25.373970        0.0   \n",
       "399377   416.97   91.501432  1.0      1.0          1.0  28.046854        0.0   \n",
       "\n",
       "        arpu  \n",
       "82045    0.0  \n",
       "179956   0.0  \n",
       "326914   0.0  \n",
       "399377   0.0  "
      ]
     },
     "execution_count": 78,
     "metadata": {},
     "output_type": "execute_result"
    }
   ],
   "source": [
    "data[data['rto'] == 0]"
   ]
  },
  {
   "cell_type": "markdown",
   "metadata": {},
   "source": [
    "ARPU (Average Revenue per User) - средний доход на пользователя  \n",
    "ARPU = общая сумма заказов пользователей / кол-во пользователей\n",
    "\n",
    "H<sub>0</sub>: ARPU<sub>test</sub> = ARPU<sub>control</sub>  \n",
    "H<sub>1</sub>: ARPU<sub>test</sub> &ne; ARPU<sub>control</sub> "
   ]
  },
  {
   "cell_type": "markdown",
   "metadata": {},
   "source": [
    "# 4. Разделение на контрольную и тестовую выборку"
   ]
  },
  {
   "cell_type": "code",
   "execution_count": null,
   "metadata": {},
   "outputs": [],
   "source": [
    "data['arpu'] = data['rto']/data['clients_qty']\n",
    "\n",
    "AA_data = data[(data['date'] >= AA_start_date) & (data['date'] < start_date)]\n",
    "data = data[(data['date'] >= start_date) & (data['date'] < end_date)]\n",
    "\n",
    "test_cities = ['Пенза', 'Уфа', 'Курск', 'Нижний Тагил', 'Новокуйбышевск', 'Орск']\n",
    "test_data = data[data['cityname'].isin(test_cities)]\n",
    "control_data = data[~data['cityname'].isin(test_cities)]"
   ]
  },
  {
   "cell_type": "markdown",
   "metadata": {},
   "source": [
    "# 5. Проверка данных на нормальность"
   ]
  },
  {
   "cell_type": "code",
   "execution_count": 35,
   "metadata": {},
   "outputs": [],
   "source": [
    "import numpy as np\n",
    "import matplotlib.pyplot as plt\n",
    "import scipy.stats as stats"
   ]
  },
  {
   "cell_type": "code",
   "execution_count": 81,
   "metadata": {},
   "outputs": [],
   "source": [
    "def analyze_distribution(data, data_name):\n",
    "\n",
    "    # 1. Гистограмма\n",
    "    plt.figure(figsize=(12, 6))\n",
    "    plt.subplot(1, 2, 1)  # 1 row, 2 columns, first subplot\n",
    "    plt.hist(data, bins=30, color='skyblue', edgecolor='black')\n",
    "    plt.title(f'Гистограмма {data_name}')\n",
    "    plt.xlabel('Значение')\n",
    "    plt.ylabel('Частота')\n",
    "\n",
    "    # 2. Q-Q Plot\n",
    "    plt.subplot(1, 2, 2)  # 1 row, 2 columns, second subplot\n",
    "    stats.probplot(data, dist=\"norm\", plot=plt)  # Using scipy.stats.probplot\n",
    "    plt.title(f'Q-Q Plot {data_name}')\n",
    "\n",
    "    plt.tight_layout()  # Adjusts subplot parameters for a tight layout\n",
    "    plt.show()\n"
   ]
  },
  {
   "cell_type": "code",
   "execution_count": 82,
   "metadata": {},
   "outputs": [
    {
     "data": {
      "image/png": "[encoded data removed]",
      "text/plain": [
       "<Figure size 1200x600 with 2 Axes>"
      ]
     },
     "metadata": {},
     "output_type": "display_data"
    }
   ],
   "source": [
    "analyze_distribution(AA_data['arpu'], 'ARPU на предпериоде')"
   ]
  },
  {
   "cell_type": "code",
   "execution_count": 83,
   "metadata": {},
   "outputs": [
    {
     "data": {
      "image/png": "[encoded data removed]",
      "text/plain": [
       "<Figure size 1200x600 with 2 Axes>"
      ]
     },
     "metadata": {},
     "output_type": "display_data"
    }
   ],
   "source": [
    "analyze_distribution(control_data['arpu'], 'ARPU на контрольной группе')"
   ]
  },
  {
   "cell_type": "code",
   "execution_count": 84,
   "metadata": {},
   "outputs": [
    {
     "data": {
      "image/png": "[encoded data removed]",
      "text/plain": [
       "<Figure size 1200x600 with 2 Axes>"
      ]
     },
     "metadata": {},
     "output_type": "display_data"
    }
   ],
   "source": [
    "analyze_distribution(test_data['arpu'], 'ARPU на тестовой группе')"
   ]
  },
  {
   "cell_type": "markdown",
   "metadata": {},
   "source": [
    "По визуальному анализу можно сделать вывод, что данные распределены нормально. Можно применять t-тест."
   ]
  },
  {
   "cell_type": "markdown",
   "metadata": {},
   "source": [
    "В тестовой группе есть выброс. Посмотрим на него."
   ]
  },
  {
   "cell_type": "code",
   "execution_count": 85,
   "metadata": {},
   "outputs": [
    {
     "data": {
      "text/html": [
       "<div>\n",
       "<style scoped>\n",
       "    .dataframe tbody tr th:only-of-type {\n",
       "        vertical-align: middle;\n",
       "    }\n",
       "\n",
       "    .dataframe tbody tr th {\n",
       "        vertical-align: top;\n",
       "    }\n",
       "\n",
       "    .dataframe thead th {\n",
       "        text-align: right;\n",
       "    }\n",
       "</style>\n",
       "<table border=\"1\" class=\"dataframe\">\n",
       "  <thead>\n",
       "    <tr style=\"text-align: right;\">\n",
       "      <th></th>\n",
       "      <th>date</th>\n",
       "      <th>cityname</th>\n",
       "      <th>ordersource</th>\n",
       "      <th>category</th>\n",
       "      <th>rto</th>\n",
       "      <th>rto_do</th>\n",
       "      <th>cost</th>\n",
       "      <th>qty</th>\n",
       "      <th>tickets</th>\n",
       "      <th>clients_qty</th>\n",
       "      <th>avg_time</th>\n",
       "      <th>avg_price</th>\n",
       "      <th>arpu</th>\n",
       "    </tr>\n",
       "  </thead>\n",
       "  <tbody>\n",
       "    <tr>\n",
       "      <th>396346</th>\n",
       "      <td>2022-05-11 00:00:00+00:00</td>\n",
       "      <td>Курск</td>\n",
       "      <td>web</td>\n",
       "      <td>пицца</td>\n",
       "      <td>50965.32</td>\n",
       "      <td>56254.05</td>\n",
       "      <td>17167.343472</td>\n",
       "      <td>96.0</td>\n",
       "      <td>31.0</td>\n",
       "      <td>28.0</td>\n",
       "      <td>40.0</td>\n",
       "      <td>530.88875</td>\n",
       "      <td>1820.19</td>\n",
       "    </tr>\n",
       "  </tbody>\n",
       "</table>\n",
       "</div>"
      ],
      "text/plain": [
       "                            date cityname ordersource category       rto  \\\n",
       "396346 2022-05-11 00:00:00+00:00    Курск         web    пицца  50965.32   \n",
       "\n",
       "          rto_do          cost   qty  tickets  clients_qty  avg_time  \\\n",
       "396346  56254.05  17167.343472  96.0     31.0         28.0      40.0   \n",
       "\n",
       "        avg_price     arpu  \n",
       "396346  530.88875  1820.19  "
      ]
     },
     "execution_count": 85,
     "metadata": {},
     "output_type": "execute_result"
    }
   ],
   "source": [
    "test_data[test_data['arpu'] > 1600]"
   ]
  },
  {
   "cell_type": "markdown",
   "metadata": {},
   "source": [
    "Удалим этот выброс из тестовых данных. Вообще надо выяснить, с чем он связан. Возможно, было какое-то мероприятие, например."
   ]
  },
  {
   "cell_type": "code",
   "execution_count": 86,
   "metadata": {},
   "outputs": [],
   "source": [
    "test_data = test_data.drop(index=396346)"
   ]
  },
  {
   "cell_type": "markdown",
   "metadata": {},
   "source": [
    "# 6. Проверка на гомоскедастичность (равенство дисперсий)"
   ]
  },
  {
   "cell_type": "code",
   "execution_count": 90,
   "metadata": {},
   "outputs": [
    {
     "name": "stdout",
     "output_type": "stream",
     "text": [
      "Результаты теста Левена:\n",
      "Статистика теста: 53.807154018573854\n",
      "P-значение: 2.3667464171888183e-13\n",
      "Дисперсии, вероятно, не равны (p <= 0.05)\n"
     ]
    }
   ],
   "source": [
    "    levene_test = stats.levene(test_data['arpu'], control_data['arpu'])  # Выполняем тест Левена\n",
    "    statistic = levene_test.statistic\n",
    "    p_value = levene_test.pvalue\n",
    "    alpha = 0.05\n",
    "\n",
    "    print(\"Результаты теста Левена:\")\n",
    "    print(f\"Статистика теста: {statistic}\")\n",
    "    print(f\"P-значение: {p_value}\")\n",
    "\n",
    "    if p_value > alpha:\n",
    "        print(f\"Дисперсии, вероятно, равны (p > {alpha})\")\n",
    "    else:\n",
    "        print(f\"Дисперсии, вероятно, не равны (p <= {alpha})\")"
   ]
  },
  {
   "cell_type": "code",
   "execution_count": 91,
   "metadata": {},
   "outputs": [
    {
     "name": "stdout",
     "output_type": "stream",
     "text": [
      "Результаты теста Левена:\n",
      "Статистика теста: 2.1579964955196815\n",
      "P-значение: 0.14184392868294587\n",
      "Дисперсии, вероятно, равны (p > 0.05)\n"
     ]
    }
   ],
   "source": [
    "    levene_test = stats.levene(AA_data['arpu'], control_data['arpu'])  # Выполняем тест Левена\n",
    "    statistic = levene_test.statistic\n",
    "    p_value = levene_test.pvalue\n",
    "    alpha = 0.05\n",
    "\n",
    "    print(\"Результаты теста Левена:\")\n",
    "    print(f\"Статистика теста: {statistic}\")\n",
    "    print(f\"P-значение: {p_value}\")\n",
    "\n",
    "    if p_value > alpha:\n",
    "        print(f\"Дисперсии, вероятно, равны (p > {alpha})\")\n",
    "    else:\n",
    "        print(f\"Дисперсии, вероятно, не равны (p <= {alpha})\")"
   ]
  },
  {
   "cell_type": "markdown",
   "metadata": {},
   "source": [
    "Будем использовать t-критерий Стьюдента для проведения A/A-теста, так как дисперсии контрольной группы и выборки на предпериоде равны, и t-тест Уэлча для сравнения тестовой и контрольной групп, так как у них дисперсии оказались не равны."
   ]
  },
  {
   "cell_type": "markdown",
   "metadata": {},
   "source": [
    "# 7. Валидация. A/A-тест"
   ]
  },
  {
   "cell_type": "code",
   "execution_count": 93,
   "metadata": {},
   "outputs": [
    {
     "name": "stdout",
     "output_type": "stream",
     "text": [
      "\n",
      "Результаты t-теста:\n",
      "Статистика теста: 0.0771426832517276\n",
      "P-значение: 0.9385107451199671\n",
      "Не отвергаем нулевую гипотезу (p > 0.05). Нет статистически значимой разницы между группами.\n"
     ]
    }
   ],
   "source": [
    "t_test = stats.ttest_ind(control_data['arpu'], AA_data['arpu'])  # t-тест Стьюдента\n",
    "\n",
    "statistic = t_test.statistic\n",
    "p_value = t_test.pvalue\n",
    "alpha = 0.05\n",
    "\n",
    "print(\"\\nРезультаты t-теста:\")\n",
    "print(f\"Статистика теста: {statistic}\")\n",
    "print(f\"P-значение: {p_value}\")\n",
    "\n",
    "if p_value > alpha:\n",
    "    print(f\"Не отвергаем нулевую гипотезу (p > {alpha}). Нет статистически значимой разницы между группами.\")\n",
    "else:\n",
    "    print(f\"Отвергаем нулевую гипотезу (p <= {alpha}). Есть статистически значимая разница между группами.\")\n"
   ]
  },
  {
   "cell_type": "markdown",
   "metadata": {},
   "source": [
    "Тест валиден. Можно приступать к A/B-тестированию."
   ]
  },
  {
   "cell_type": "markdown",
   "metadata": {},
   "source": [
    "# 8. Расчет результатов A/B-теста"
   ]
  },
  {
   "cell_type": "code",
   "execution_count": 94,
   "metadata": {},
   "outputs": [
    {
     "name": "stdout",
     "output_type": "stream",
     "text": [
      "\n",
      "Результаты t-теста:\n",
      "Статистика теста: -10.636064295479418\n",
      "P-значение: 1.2091061562637743e-22\n",
      "Отвергаем нулевую гипотезу (p <= 0.05). Есть статистически значимая разница между группами.\n"
     ]
    }
   ],
   "source": [
    "t_test = stats.ttest_ind(test_data['arpu'], control_data['arpu'], equal_var=False)  # t-тест Уэлча\n",
    "\n",
    "statistic = t_test.statistic\n",
    "p_value = t_test.pvalue\n",
    "alpha = 0.05\n",
    "\n",
    "print(\"\\nРезультаты t-теста:\")\n",
    "print(f\"Статистика теста: {statistic}\")\n",
    "print(f\"P-значение: {p_value}\")\n",
    "\n",
    "if p_value > alpha:\n",
    "    print(f\"Не отвергаем нулевую гипотезу (p > {alpha}). Нет статистически значимой разницы между группами.\")\n",
    "else:\n",
    "    print(f\"Отвергаем нулевую гипотезу (p <= {alpha}). Есть статистически значимая разница между группами.\")"
   ]
  },
  {
   "cell_type": "markdown",
   "metadata": {},
   "source": [
    "Есть статистически значимая разница между группами. Так как статистика теста отрицательная, изменения скорее всего имели ухудшающий эффект - красный тест. \n",
    "Посчитаем d Коэна, чтобы оценить ухудшающий эффект."
   ]
  },
  {
   "cell_type": "code",
   "execution_count": 96,
   "metadata": {},
   "outputs": [
    {
     "data": {
      "text/plain": [
       "-0.3456546218127238"
      ]
     },
     "execution_count": 96,
     "metadata": {},
     "output_type": "execute_result"
    }
   ],
   "source": [
    "import math\n",
    "\n",
    "nt = test_data['arpu'].count()\n",
    "nc = control_data['arpu'].count()\n",
    "\n",
    "SDt = test_data['arpu'].std()\n",
    "SDc = control_data['arpu'].std()\n",
    "\n",
    "Mt = test_data['arpu'].mean()\n",
    "Mc = control_data['arpu'].mean()\n",
    "\n",
    "SDpooled = math.sqrt(((nt - 1) * SDt**2 + (nc - 1) * SDc**2) / (nt + nc - 2))\n",
    "d = (Mt - Mc) / SDpooled\n",
    "d"
   ]
  },
  {
   "cell_type": "markdown",
   "metadata": {},
   "source": [
    "d Коэна показал малый размер эффекта. Но всё эе результат теста - красный."
   ]
  },
  {
   "cell_type": "markdown",
   "metadata": {},
   "source": [
    "РЕКОМЕНДАЦИИ: не стоит расказывать изменения. Расположение пицц по популярности, а не по увеличению цены значимо ухудшило метрику ARPU, дав малый ухудшающий эффект."
   ]
  }
 ],
 "metadata": {
  "kernelspec": {
   "display_name": "Python 3",
   "language": "python",
   "name": "python3"
  },
  "language_info": {
   "codemirror_mode": {
    "name": "ipython",
    "version": 3
   },
   "file_extension": ".py",
   "mimetype": "text/x-python",
   "name": "python",
   "nbconvert_exporter": "python",
   "pygments_lexer": "ipython3",
   "version": "3.11.9"
  }
 },
 "nbformat": 4,
 "nbformat_minor": 2
}
